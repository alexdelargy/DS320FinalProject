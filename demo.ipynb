{
 "cells": [
  {
   "cell_type": "code",
   "execution_count": null,
   "metadata": {},
   "outputs": [],
   "source": [
    "import wbgapi as wb"
   ]
  },
  {
   "cell_type": "code",
   "execution_count": null,
   "metadata": {},
   "outputs": [],
   "source": [
    "help(wb)  \n",
    "help(wb.series)  "
   ]
  },
  {
   "cell_type": "code",
   "execution_count": null,
   "metadata": {},
   "outputs": [],
   "source": [
    "wb.series.info()"
   ]
  },
  {
   "cell_type": "code",
   "execution_count": null,
   "metadata": {},
   "outputs": [],
   "source": [
    "# URL requesting/ outputs json\n",
    "import requests\n",
    "from datetime import datetime\n",
    "\n",
    "\n",
    "current_year = datetime.now().year\n",
    "start_year = current_year - 20\n",
    "\n",
    "country_codes = \"USA;CHN;IND;BRA;ZAF;RUS;JPN;DEU;GBR;FRA\"\n",
    "url = f\"https://api.worldbank.org/v2/country/{country_codes}/indicator/NY.GDP.PCAP.CD?format=json&date={start_year}:{current_year}\"\n",
    "\n",
    "response = requests.get(url)\n",
    "data = response.json()\n",
    "\n",
    "\n",
    "if data and len(data) > 1:  \n",
    "    for record in data[1]:\n",
    "        country = record['country']['value']\n",
    "        year = record['date']\n",
    "        gdp_per_capita = record['value']\n",
    "        print(f\"{country} ({year}): GDP per capita = {gdp_per_capita}\")\n",
    "else:\n",
    "    print(\"No data found.\")"
   ]
  },
  {
   "cell_type": "code",
   "execution_count": null,
   "metadata": {},
   "outputs": [
    {
     "data": {
      "text/html": [
       "<div>\n",
       "<style scoped>\n",
       "    .dataframe tbody tr th:only-of-type {\n",
       "        vertical-align: middle;\n",
       "    }\n",
       "\n",
       "    .dataframe tbody tr th {\n",
       "        vertical-align: top;\n",
       "    }\n",
       "\n",
       "    .dataframe thead th {\n",
       "        text-align: right;\n",
       "    }\n",
       "</style>\n",
       "<table border=\"1\" class=\"dataframe\">\n",
       "  <thead>\n",
       "    <tr style=\"text-align: right;\">\n",
       "      <th></th>\n",
       "      <th>YR2019</th>\n",
       "      <th>YR2020</th>\n",
       "      <th>YR2021</th>\n",
       "      <th>YR2022</th>\n",
       "      <th>YR2023</th>\n",
       "    </tr>\n",
       "    <tr>\n",
       "      <th>series</th>\n",
       "      <th></th>\n",
       "      <th></th>\n",
       "      <th></th>\n",
       "      <th></th>\n",
       "      <th></th>\n",
       "    </tr>\n",
       "  </thead>\n",
       "  <tbody>\n",
       "    <tr>\n",
       "      <th>NY.GDP.PCAP.CD</th>\n",
       "      <td>4.635287e+04</td>\n",
       "      <td>4.353784e+04</td>\n",
       "      <td>5.249684e+04</td>\n",
       "      <td>5.550939e+04</td>\n",
       "      <td>5.337170e+04</td>\n",
       "    </tr>\n",
       "    <tr>\n",
       "      <th>SP.POP.TOTL</th>\n",
       "      <td>3.761850e+07</td>\n",
       "      <td>3.802864e+07</td>\n",
       "      <td>3.823986e+07</td>\n",
       "      <td>3.893906e+07</td>\n",
       "      <td>4.009776e+07</td>\n",
       "    </tr>\n",
       "  </tbody>\n",
       "</table>\n",
       "</div>"
      ],
      "text/plain": [
       "                      YR2019        YR2020        YR2021        YR2022  \\\n",
       "series                                                                   \n",
       "NY.GDP.PCAP.CD  4.635287e+04  4.353784e+04  5.249684e+04  5.550939e+04   \n",
       "SP.POP.TOTL     3.761850e+07  3.802864e+07  3.823986e+07  3.893906e+07   \n",
       "\n",
       "                      YR2023  \n",
       "series                        \n",
       "NY.GDP.PCAP.CD  5.337170e+04  \n",
       "SP.POP.TOTL     4.009776e+07  "
      ]
     },
     "execution_count": 12,
     "metadata": {},
     "output_type": "execute_result"
    }
   ],
   "source": [
    "# requesting through package outputs Pandas DF\n",
    "wb.data.DataFrame(['NY.GDP.PCAP.CD', 'SP.POP.TOTL'], 'CAN', mrv=5)"
   ]
  }
 ],
 "metadata": {
  "kernelspec": {
   "display_name": "Python 3",
   "language": "python",
   "name": "python3"
  },
  "language_info": {
   "codemirror_mode": {
    "name": "ipython",
    "version": 3
   },
   "file_extension": ".py",
   "mimetype": "text/x-python",
   "name": "python",
   "nbconvert_exporter": "python",
   "pygments_lexer": "ipython3",
   "version": "3.12.8"
  }
 },
 "nbformat": 4,
 "nbformat_minor": 2
}
