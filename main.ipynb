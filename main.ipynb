{
 "cells": [
  {
   "cell_type": "markdown",
   "metadata": {},
   "source": [
    "# Data Sources"
   ]
  },
  {
   "cell_type": "code",
   "execution_count": 76,
   "metadata": {},
   "outputs": [],
   "source": [
    "import requests \n",
    "import pandas as pd\n",
    "import json\n",
    "import time "
   ]
  },
  {
   "cell_type": "code",
   "execution_count": 2,
   "metadata": {},
   "outputs": [],
   "source": [
    "with open('keys.json', 'r') as KeysFile:\n",
    "    data = json.load(KeysFile)\n",
    "\n",
    "aviationStackAPIKey = data[\"Aviation Stack API KEY\"]"
   ]
  },
  {
   "cell_type": "code",
   "execution_count": 142,
   "metadata": {},
   "outputs": [],
   "source": [
    "def getHistoricalFlights(departureIATA: str=None, arrivalIATA: str=None, date: str=None):\n",
    "    url = f\"https://api.aviationstack.com/v1/flights?access_key={aviationStackAPIKey}\"\n",
    "    queryString = {\"dep_iata\": departureIATA, \"arr_iata\": arrivalIATA, \"flight_date\": date}\n",
    "    queryString = {key: value for key, value in queryString.items() if value is not None}\n",
    "    response = requests.get(url, params=queryString)\n",
    "    if response.status_code != 200:\n",
    "        print(response)\n",
    "        return None\n",
    "\n",
    "    response = response.json()\n",
    "    response = response['data']\n",
    "    flights_df = pd.DataFrame(columns=['Date', 'DepartureIATA', 'DepartureTime', 'ArrivalIATA', 'ArrivalTime', 'Aircraft', 'AirlineName', 'AirlineIATA', 'FlightNumberIATA'])\n",
    "    for flight in response:\n",
    "        if isinstance(flight, dict) and flight.get('flight', {}).get('codeshared', None) is None:\n",
    "            new_case = {\n",
    "                'Date': date,\n",
    "                'DepartureIATA': flight.get('departure', {}).get('iata', None),\n",
    "                'DepartureTime': flight.get('departure', {}).get('scheduled', None),\n",
    "                'ArrivalIATA': flight.get('arrival', {}).get('iata', None),\n",
    "                'ArrivalTime': flight.get('arrival', {}).get('scheduled', None),\n",
    "                'Aircraft': flight.get('aircraft', {}).get('iata', None) if flight.get('aircraft') is not None else None,\n",
    "                'AirlineName': flight.get('airline', {}).get('name', None),\n",
    "                'AirlineIATA': flight.get('airline', {}).get('iata', None),\n",
    "                'FlightNumberIATA': flight.get('flight', {}).get('iata', None)\n",
    "            }\n",
    "            flights_df.loc[len(flights_df)] = new_case\n",
    "\n",
    "    return flights_df"
   ]
  },
  {
   "cell_type": "code",
   "execution_count": 143,
   "metadata": {},
   "outputs": [],
   "source": [
    "df = getHistoricalFlights(departureIATA=\"JFK\", arrivalIATA=\"LAX\", date='2024-02-16')"
   ]
  },
  {
   "cell_type": "code",
   "execution_count": 8,
   "metadata": {},
   "outputs": [],
   "source": [
    "def getFutureFlights(departureIATA: str=None, arrivalIATA: str=None, date: str=None, airlineIATA: str=None, flightNumber: str=None):\n",
    "    url = f\"https://api.aviationstack.com/v1/flightsFuture?access_key={aviationStackAPIKey}\"\n",
    "    if not ((departureIATA is None) ^ (arrivalIATA is None)):\n",
    "        return \"Invalid Request\"\n",
    "    \n",
    "    if departureIATA:\n",
    "        queryString = {\n",
    "            \"iataCode\": departureIATA,\n",
    "            \"type\": \"departure\",\n",
    "            \"date\": date,\n",
    "            \"airline_iata\": airlineIATA,\n",
    "            \"flight_number\":flightNumber\n",
    "        }\n",
    "    \n",
    "    else:\n",
    "        queryString = {\n",
    "            \"iataCode\": arrivalIATA,\n",
    "            \"type\": \"arrival\",\n",
    "            \"date\": date,\n",
    "            \"airline_iata\": airlineIATA,\n",
    "            \"flight_number\":flightNumber\n",
    "        }\n",
    "    \n",
    "    queryString = {key: value for key, value in queryString.items() if value is not None}\n",
    "    response = requests.get(url, params=queryString)\n",
    "    if response.status_code != 200:\n",
    "        print(response)\n",
    "        return None\n",
    "    response = response.json()\n",
    "    response = response['data']\n",
    "    response = [flight for flight in response if \"codeshared\" not in flight.keys()]\n",
    "    df = pd.DataFrame(columns=['Date', 'Weekday', 'DepartureIATA', 'DepartureTime', 'ArrivalIATA', 'ArrivalTime', 'Aircraft', 'AirlineIATA', 'FlightNumberIATA'])\n",
    "    \n",
    "    for flight in response:\n",
    "        new_case = {'Date': date, \n",
    "                    'Weekday': flight['weekday'],\n",
    "                    'DepartureIATA': flight['departure']['iataCode'],\n",
    "                    'DepartureTime': flight['departure']['scheduledTime'],\n",
    "                    'ArrivalIATA': flight['arrival']['iataCode'],\n",
    "                    'ArrivalTime': flight['arrival']['scheduledTime'],\n",
    "                    'Aircraft': flight['aircraft']['modelCode'],\n",
    "                    'AirlineIATA': flight['airline']['iataCode'],\n",
    "                    'FlightNumberIATA': flight['flight']['iataNumber']}\n",
    "        df.loc[len(df)] = new_case\n",
    "\n",
    "    return df"
   ]
  },
  {
   "cell_type": "code",
   "execution_count": 8,
   "metadata": {},
   "outputs": [],
   "source": [
    "df = getFutureFlights(departureIATA=\"ATL\", date=\"2024-11-29\", airlineIATA=\"DL\")"
   ]
  }
 ],
 "metadata": {
  "kernelspec": {
   "display_name": "Python 3",
   "language": "python",
   "name": "python3"
  },
  "language_info": {
   "codemirror_mode": {
    "name": "ipython",
    "version": 3
   },
   "file_extension": ".py",
   "mimetype": "text/x-python",
   "name": "python",
   "nbconvert_exporter": "python",
   "pygments_lexer": "ipython3",
   "version": "3.13.0"
  }
 },
 "nbformat": 4,
 "nbformat_minor": 2
}
