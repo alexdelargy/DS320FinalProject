{
 "cells": [
  {
   "cell_type": "markdown",
   "metadata": {},
   "source": [
    "# Data Sources"
   ]
  },
  {
   "cell_type": "code",
   "execution_count": 38,
   "metadata": {},
   "outputs": [],
   "source": [
    "import requests \n",
    "import pandas as pd\n",
    "import json\n",
    "from sklearn.linear_model import LinearRegression\n",
    "from sklearn.metrics import mean_squared_error, r2_score\n",
    "from sklearn.preprocessing import StandardScaler\n",
    "from datetime import datetime, timedelta\n",
    "from itertools import product\n",
    "import io\n",
    "import oracledb\n",
    "import seaborn as sns\n",
    "import matplotlib.pyplot as plt \n",
    "import os \n",
    "\n",
    "os.environ[\"TNS_ADMIN\"] = r\"C:\\Users\\addel\\Downloads\\Wallet_DS320Flights\\cwallet.sso\"\n"
   ]
  },
  {
   "cell_type": "code",
   "execution_count": 6,
   "metadata": {},
   "outputs": [],
   "source": [
    "with open('keys.json', 'r') as KeysFile:\n",
    "    data = json.load(KeysFile)\n",
    "\n",
    "aviationStackAPIKey = data[\"Aviation Stack API KEY\"]\n",
    "username = \"admin\"\n",
    "password = data[\"Oracle Password\"]\n",
    "dsn = data[\"DB Name\"]"
   ]
  },
  {
   "cell_type": "markdown",
   "metadata": {},
   "source": [
    "## Country Data"
   ]
  },
  {
   "cell_type": "code",
   "execution_count": 3,
   "metadata": {},
   "outputs": [],
   "source": [
    "def getCountryCodes(country: str):\n",
    "    urlCountry = f\"https://api.aviationstack.com/v1/countries?access_key={aviationStackAPIKey}\"\n",
    "    queryStringCountry = {\"search\": country}\n",
    "    responseCountry = requests.get(urlCountry, params=queryStringCountry)\n",
    "    responseCountry = responseCountry.json()\n",
    "    responseCountry = responseCountry.get('data')\n",
    "    codes = [c.get('country_iso2') for c in responseCountry]\n",
    "    return codes"
   ]
  },
  {
   "cell_type": "code",
   "execution_count": 4,
   "metadata": {},
   "outputs": [],
   "source": [
    "def getAirportsByCountry(code: str):\n",
    "    urlAirport = f\"https://api.aviationstack.com/v1/airports?access_key={aviationStackAPIKey}\"\n",
    "\n",
    "    offset = 0\n",
    "    all_data = []\n",
    "    \n",
    "    while True:\n",
    "        queryStringAirport = {\"offset\": offset, \"country_iso\": code, \"type\": \"international\"}\n",
    "        responseAirport = requests.get(urlAirport, params=queryStringAirport)\n",
    "        responseAirport = responseAirport.json()\n",
    "        \n",
    "        currentData = responseAirport.get('data', [])\n",
    "        currentData = [airP for airP in currentData if airP.get('country_iso2') == code]\n",
    "        all_data.extend(currentData)\n",
    "        \n",
    "        if offset + 100 >= responseAirport.get('pagination').get('total'):\n",
    "            break\n",
    "        \n",
    "        offset += 100\n",
    "    \n",
    "    airports_df = pd.DataFrame(columns=['IATA', 'CountryCode', 'AirportName', 'Country'])\n",
    "    \n",
    "    for case in all_data:\n",
    "        new_case = {'IATA': case.get('iata_code', ''),\n",
    "                    'CountryCode': case.get('country_iso2', ''),\n",
    "                    'AirportName': case.get('airport_name', ''),\n",
    "                    'Country': case.get('country_name', '')}\n",
    "        airports_df.loc[len(airports_df)] = new_case\n",
    "        \n",
    "    return airports_df"
   ]
  },
  {
   "cell_type": "markdown",
   "metadata": {},
   "source": [
    "## Historical Flight Data"
   ]
  },
  {
   "cell_type": "code",
   "execution_count": 5,
   "metadata": {},
   "outputs": [],
   "source": [
    "def getHistoricalFlights(departureIATA: str=None, arrivalIATA: str=None, date: str=None):\n",
    "    url = f\"https://api.aviationstack.com/v1/flights?access_key={aviationStackAPIKey}\"\n",
    "    queryString = {\"limit\": 100, \"dep_iata\": departureIATA, \"arr_iata\": arrivalIATA, \"flight_date\": date}\n",
    "    queryString = {key: value for key, value in queryString.items() if value is not None}\n",
    "    print(queryString)\n",
    "    response = requests.get(url, params=queryString)\n",
    "    if response.status_code != 200:\n",
    "        print(response)\n",
    "        return None\n",
    "\n",
    "    response = response.json()\n",
    "    response = response['data']\n",
    "    flights_df = pd.DataFrame(columns=['Date', 'DepartureIATA', 'DepartureTime', 'ArrivalIATA', 'ArrivalTime', 'Aircraft', 'AirlineName', 'AirlineIATA', 'FlightNumberIATA'])\n",
    "    for flight in response:\n",
    "        if isinstance(flight, dict) and flight.get('flight', {}).get('codeshared') is None:\n",
    "            new_case = {\n",
    "                'Date': date,\n",
    "                'DepartureIATA': flight.get('departure', {}).get('iata', None),\n",
    "                'DepartureTime': flight.get('departure', {}).get('scheduled', None),\n",
    "                'ArrivalIATA': flight.get('arrival', {}).get('iata', None),\n",
    "                'ArrivalTime': flight.get('arrival', {}).get('scheduled', None),\n",
    "                'Aircraft': flight.get('aircraft', {}).get('iata', None) if flight.get('aircraft') is not None else None,\n",
    "                'AirlineName': flight.get('airline', {}).get('name', None),\n",
    "                'AirlineIATA': flight.get('airline', {}).get('iata', None),\n",
    "                'FlightNumberIATA': flight.get('flight', {}).get('iata', None)\n",
    "            }\n",
    "            flights_df.loc[len(flights_df)] = new_case\n",
    "\n",
    "    return flights_df"
   ]
  },
  {
   "cell_type": "markdown",
   "metadata": {},
   "source": [
    "### Get Country Codes for US Brazil Portugal Canada Italy France"
   ]
  },
  {
   "cell_type": "code",
   "execution_count": 6,
   "metadata": {},
   "outputs": [],
   "source": [
    "US_codes = getCountryCodes('United States')\n",
    "Brazil_codes = getCountryCodes('Brazil')\n",
    "Portugal_codes = getCountryCodes('Portugal')\n",
    "Mexico_codes = getCountryCodes('Mexico')\n",
    "Italy_codes = getCountryCodes('Italy')\n",
    "France_codes = getCountryCodes('France')"
   ]
  },
  {
   "cell_type": "code",
   "execution_count": 7,
   "metadata": {},
   "outputs": [
    {
     "name": "stdout",
     "output_type": "stream",
     "text": [
      "Country codes:\n",
      "US: ['UM', 'US']\n",
      "Brazil: ['BR']\n",
      "Portugal: ['PT']\n",
      "Mexico: ['MX']\n",
      "Italy: ['IT']\n",
      "France: ['FR', 'MQ']\n"
     ]
    }
   ],
   "source": [
    "print(f\"Country codes:\\nUS: {US_codes}\\nBrazil: {Brazil_codes}\\nPortugal: {Portugal_codes}\\nMexico: {Mexico_codes}\\nItaly: {Italy_codes}\\nFrance: {France_codes}\")"
   ]
  },
  {
   "cell_type": "code",
   "execution_count": 8,
   "metadata": {},
   "outputs": [],
   "source": [
    "US_airports = ['JFK', 'ATL', 'DTW', 'LAX']\n",
    "Italy_airports = ['FCO']\n",
    "France_airports = ['CDG']\n",
    "Brazil_airports = ['GRU']\n",
    "Portugal_airports = ['LIS']\n",
    "Mexico_airports = ['CUN']"
   ]
  },
  {
   "cell_type": "code",
   "execution_count": 9,
   "metadata": {},
   "outputs": [],
   "source": [
    "US_Italy = list(product(US_airports, Italy_airports))\n",
    "US_France = list(product(US_airports, France_airports))\n",
    "US_Brazil = list(product(US_airports, Brazil_airports))\n",
    "US_Portugal = list(product(US_airports, Portugal_airports))\n",
    "US_Mexico = list(product(US_airports, Mexico_airports))\n",
    "airport_combinations = US_Italy + US_France + US_Brazil + US_Portugal + US_Mexico"
   ]
  },
  {
   "cell_type": "code",
   "execution_count": 10,
   "metadata": {},
   "outputs": [],
   "source": [
    "dates = [datetime(2024, 1, 1) + timedelta(days=i) for i in range(366)]\n",
    "dates = [i.strftime(\"%Y-%m-%d\") for i in dates]"
   ]
  },
  {
   "cell_type": "code",
   "execution_count": null,
   "metadata": {},
   "outputs": [],
   "source": [
    "df_all_flights = pd.DataFrame(columns=['Date', 'DepartureIATA', 'DepartureTime', 'ArrivalIATA', 'ArrivalTime', 'Aircraft', 'AirlineName', 'AirlineIATA', 'FlightNumberIATA'])\n",
    "for city_pair in airport_combinations:\n",
    "    for current_date in dates:\n",
    "        temp_df = getHistoricalFlights(departureIATA=city_pair[0], arrivalIATA=city_pair[1], date=current_date)\n",
    "        df_all_flights = pd.concat([temp_df, df_all_flights], ignore_index=True)"
   ]
  },
  {
   "cell_type": "code",
   "execution_count": 14,
   "metadata": {},
   "outputs": [
    {
     "data": {
      "text/html": [
       "<div>\n",
       "<style scoped>\n",
       "    .dataframe tbody tr th:only-of-type {\n",
       "        vertical-align: middle;\n",
       "    }\n",
       "\n",
       "    .dataframe tbody tr th {\n",
       "        vertical-align: top;\n",
       "    }\n",
       "\n",
       "    .dataframe thead th {\n",
       "        text-align: right;\n",
       "    }\n",
       "</style>\n",
       "<table border=\"1\" class=\"dataframe\">\n",
       "  <thead>\n",
       "    <tr style=\"text-align: right;\">\n",
       "      <th></th>\n",
       "      <th>Date</th>\n",
       "      <th>DepartureIATA</th>\n",
       "      <th>DepartureTime</th>\n",
       "      <th>ArrivalIATA</th>\n",
       "      <th>ArrivalTime</th>\n",
       "      <th>Aircraft</th>\n",
       "      <th>AirlineName</th>\n",
       "      <th>AirlineIATA</th>\n",
       "      <th>FlightNumberIATA</th>\n",
       "    </tr>\n",
       "  </thead>\n",
       "  <tbody>\n",
       "    <tr>\n",
       "      <th>0</th>\n",
       "      <td>2024-12-11</td>\n",
       "      <td>LAX</td>\n",
       "      <td>2024-12-11 10:36:00</td>\n",
       "      <td>CUN</td>\n",
       "      <td>2024-12-11 18:19:00</td>\n",
       "      <td>B39M</td>\n",
       "      <td>Alaska Airlines</td>\n",
       "      <td>AS</td>\n",
       "      <td>AS1332</td>\n",
       "    </tr>\n",
       "    <tr>\n",
       "      <th>1</th>\n",
       "      <td>2024-12-11</td>\n",
       "      <td>LAX</td>\n",
       "      <td>2024-12-11 07:14:00</td>\n",
       "      <td>CUN</td>\n",
       "      <td>2024-12-11 15:00:00</td>\n",
       "      <td>B39M</td>\n",
       "      <td>Alaska Airlines</td>\n",
       "      <td>AS</td>\n",
       "      <td>AS1366</td>\n",
       "    </tr>\n",
       "    <tr>\n",
       "      <th>2</th>\n",
       "      <td>2024-12-11</td>\n",
       "      <td>LAX</td>\n",
       "      <td>2024-12-11 10:35:00</td>\n",
       "      <td>CUN</td>\n",
       "      <td>2024-12-11 18:15:00</td>\n",
       "      <td>B739</td>\n",
       "      <td>Delta Air Lines</td>\n",
       "      <td>DL</td>\n",
       "      <td>DL615</td>\n",
       "    </tr>\n",
       "    <tr>\n",
       "      <th>3</th>\n",
       "      <td>2024-12-11</td>\n",
       "      <td>LAX</td>\n",
       "      <td>2024-12-11 09:00:00</td>\n",
       "      <td>CUN</td>\n",
       "      <td>2024-12-11 16:45:00</td>\n",
       "      <td>B39M</td>\n",
       "      <td>United Airlines</td>\n",
       "      <td>UA</td>\n",
       "      <td>UA1276</td>\n",
       "    </tr>\n",
       "    <tr>\n",
       "      <th>4</th>\n",
       "      <td>2024-12-10</td>\n",
       "      <td>LAX</td>\n",
       "      <td>2024-12-10 10:36:00</td>\n",
       "      <td>CUN</td>\n",
       "      <td>2024-12-10 18:19:00</td>\n",
       "      <td>B39M</td>\n",
       "      <td>Alaska Airlines</td>\n",
       "      <td>AS</td>\n",
       "      <td>AS1332</td>\n",
       "    </tr>\n",
       "  </tbody>\n",
       "</table>\n",
       "</div>"
      ],
      "text/plain": [
       "         Date DepartureIATA        DepartureTime ArrivalIATA  \\\n",
       "0  2024-12-11           LAX  2024-12-11 10:36:00         CUN   \n",
       "1  2024-12-11           LAX  2024-12-11 07:14:00         CUN   \n",
       "2  2024-12-11           LAX  2024-12-11 10:35:00         CUN   \n",
       "3  2024-12-11           LAX  2024-12-11 09:00:00         CUN   \n",
       "4  2024-12-10           LAX  2024-12-10 10:36:00         CUN   \n",
       "\n",
       "           ArrivalTime Aircraft      AirlineName AirlineIATA FlightNumberIATA  \n",
       "0  2024-12-11 18:19:00     B39M  Alaska Airlines          AS           AS1332  \n",
       "1  2024-12-11 15:00:00     B39M  Alaska Airlines          AS           AS1366  \n",
       "2  2024-12-11 18:15:00     B739  Delta Air Lines          DL            DL615  \n",
       "3  2024-12-11 16:45:00     B39M  United Airlines          UA           UA1276  \n",
       "4  2024-12-10 18:19:00     B39M  Alaska Airlines          AS           AS1332  "
      ]
     },
     "execution_count": 14,
     "metadata": {},
     "output_type": "execute_result"
    }
   ],
   "source": [
    "df_all_flights.head()"
   ]
  },
  {
   "cell_type": "code",
   "execution_count": 15,
   "metadata": {},
   "outputs": [
    {
     "name": "stdout",
     "output_type": "stream",
     "text": [
      "<class 'pandas.core.frame.DataFrame'>\n",
      "RangeIndex: 20169 entries, 0 to 20168\n",
      "Data columns (total 9 columns):\n",
      " #   Column            Non-Null Count  Dtype \n",
      "---  ------            --------------  ----- \n",
      " 0   Date              20169 non-null  object\n",
      " 1   DepartureIATA     20169 non-null  object\n",
      " 2   DepartureTime     20169 non-null  object\n",
      " 3   ArrivalIATA       20169 non-null  object\n",
      " 4   ArrivalTime       20169 non-null  object\n",
      " 5   Aircraft          17037 non-null  object\n",
      " 6   AirlineName       20169 non-null  object\n",
      " 7   AirlineIATA       20150 non-null  object\n",
      " 8   FlightNumberIATA  20150 non-null  object\n",
      "dtypes: object(9)\n",
      "memory usage: 1.4+ MB\n"
     ]
    }
   ],
   "source": [
    "df_all_flights.info()"
   ]
  },
  {
   "cell_type": "code",
   "execution_count": 16,
   "metadata": {},
   "outputs": [],
   "source": [
    "df_all_flights['Date'] = pd.to_datetime(df_all_flights['Date'])\n",
    "df_all_flights['DepartureTime'] = pd.to_datetime(df_all_flights['DepartureTime'])\n",
    "df_all_flights['ArrivalTime'] = pd.to_datetime(df_all_flights['ArrivalTime'])"
   ]
  },
  {
   "cell_type": "code",
   "execution_count": 17,
   "metadata": {},
   "outputs": [
    {
     "name": "stdout",
     "output_type": "stream",
     "text": [
      "<class 'pandas.core.frame.DataFrame'>\n",
      "RangeIndex: 20169 entries, 0 to 20168\n",
      "Data columns (total 9 columns):\n",
      " #   Column            Non-Null Count  Dtype         \n",
      "---  ------            --------------  -----         \n",
      " 0   Date              20169 non-null  datetime64[ns]\n",
      " 1   DepartureIATA     20169 non-null  object        \n",
      " 2   DepartureTime     20169 non-null  datetime64[ns]\n",
      " 3   ArrivalIATA       20169 non-null  object        \n",
      " 4   ArrivalTime       20169 non-null  datetime64[ns]\n",
      " 5   Aircraft          17037 non-null  object        \n",
      " 6   AirlineName       20169 non-null  object        \n",
      " 7   AirlineIATA       20150 non-null  object        \n",
      " 8   FlightNumberIATA  20150 non-null  object        \n",
      "dtypes: datetime64[ns](3), object(6)\n",
      "memory usage: 1.4+ MB\n"
     ]
    }
   ],
   "source": [
    "df_all_flights.info()"
   ]
  },
  {
   "cell_type": "code",
   "execution_count": 18,
   "metadata": {},
   "outputs": [],
   "source": [
    "df_all_flights['FlightNumberIATA'] = df_all_flights['FlightNumberIATA'].fillna(\"N/A\")\n",
    "df_all_flights.to_csv(\"Data/AllFlights.csv\")"
   ]
  },
  {
   "cell_type": "markdown",
   "metadata": {},
   "source": [
    "## OECD API"
   ]
  },
  {
   "cell_type": "code",
   "execution_count": 31,
   "metadata": {},
   "outputs": [],
   "source": [
    "# Make API Requests for Data\n",
    "urlConsumerConfidence= 'https://sdmx.oecd.org/public/rest/data/OECD.SDD.STES,DSD_STES@DF_CS,4.0/.M.ES......?startPeriod=2024-01&endPeriod=2024-09&dimensionAtObservation=AllDimensions&format=csvfilewithlabels'\n",
    "responseConsumerConfidence = requests.get(urlConsumerConfidence).content\n",
    "urlKeyEconomic = 'https://sdmx.oecd.org/public/rest/data/OECD.SDD.STES,DSD_KEI@DF_KEI,4.0/.M.PRVM.IX.BTE..?startPeriod=2024-01&endPeriod=2024-09&dimensionAtObservation=AllDimensions&format=csvfilewithlabels'\n",
    "responseKeyEconomic = requests.get(urlKeyEconomic).content\n",
    "urlUnemployment = 'https://sdmx.oecd.org/public/rest/data/OECD.SDD.TPS,DSD_LFS@DF_IALFS_UNE_M,1.0/..._Z.Y._T.Y_GE15..M?startPeriod=2024-01&endPeriod=2024-09&dimensionAtObservation=AllDimensions&format=csvfilewithlabels'\n",
    "responseUnemployment = requests.get(urlUnemployment).content\n",
    "urlConsumerBaro ='https://sdmx.oecd.org/public/rest/data/OECD.SDD.STES,DSD_STES@DF_CSBAR,4.0/.M.......?startPeriod=2024-01&endPeriod=2024-09&dimensionAtObservation=AllDimensions&format=csvfilewithlabels'\n",
    "responseConsumerBaro = requests.get(urlConsumerBaro).content\n",
    "\n",
    "# Read data into Pandas dataframes\n",
    "df_KeyEconomic = pd.read_csv(io.StringIO(responseKeyEconomic.decode('utf-8')))\n",
    "df_Unemployment = pd.read_csv(io.StringIO(responseUnemployment.decode('utf-8')))\n",
    "df_ConsumerConfidence = pd.read_csv(io.StringIO(responseConsumerConfidence.decode('utf-8')))\n",
    "df_ConsumerBaro = pd.read_csv(io.StringIO(responseConsumerBaro.decode('utf-8')))"
   ]
  },
  {
   "cell_type": "code",
   "execution_count": 32,
   "metadata": {},
   "outputs": [],
   "source": [
    "# Filter data to get economic data for specific countries\n",
    "df_KeyEconomic = df_KeyEconomic[df_KeyEconomic['Reference area'].isin(['Italy', 'France', 'Mexico', 'Korea', 'Portugal'])]\n",
    "df_Unemployment = df_Unemployment[df_Unemployment['Reference area'].isin(['Italy', 'France', 'Mexico', 'Korea', 'Portugal'])]\n",
    "df_ConsumerConfidence = df_ConsumerConfidence[df_ConsumerConfidence['Reference area'].isin(['Italy', 'France', 'Mexico', 'Korea', 'Portugal'])]\n",
    "df_ConsumerBaro = df_ConsumerBaro[df_ConsumerBaro['Reference area'].isin(['Italy', 'France', 'Mexico', 'Korea', 'Portugal'])]"
   ]
  },
  {
   "cell_type": "code",
   "execution_count": 35,
   "metadata": {},
   "outputs": [
    {
     "name": "stdout",
     "output_type": "stream",
     "text": [
      "<class 'pandas.core.frame.DataFrame'>\n",
      "Index: 45 entries, 64 to 360\n",
      "Data columns (total 30 columns):\n",
      " #   Column                    Non-Null Count  Dtype  \n",
      "---  ------                    --------------  -----  \n",
      " 0   STRUCTURE                 45 non-null     object \n",
      " 1   STRUCTURE_ID              45 non-null     object \n",
      " 2   STRUCTURE_NAME            45 non-null     object \n",
      " 3   ACTION                    45 non-null     object \n",
      " 4   REF_AREA                  45 non-null     object \n",
      " 5   Reference area            45 non-null     object \n",
      " 6   FREQ                      45 non-null     object \n",
      " 7   Frequency of observation  45 non-null     object \n",
      " 8   MEASURE                   45 non-null     object \n",
      " 9   Measure                   45 non-null     object \n",
      " 10  UNIT_MEASURE              45 non-null     object \n",
      " 11  Unit of measure           45 non-null     object \n",
      " 12  ACTIVITY                  45 non-null     object \n",
      " 13  Economic activity         45 non-null     object \n",
      " 14  ADJUSTMENT                45 non-null     object \n",
      " 15  Adjustment                45 non-null     object \n",
      " 16  TRANSFORMATION            45 non-null     object \n",
      " 17  Transformation            45 non-null     object \n",
      " 18  TIME_PERIOD               45 non-null     object \n",
      " 19  Time period               0 non-null      float64\n",
      " 20  OBS_VALUE                 45 non-null     float64\n",
      " 21  Observation value         0 non-null      float64\n",
      " 22  OBS_STATUS                45 non-null     object \n",
      " 23  Observation status        45 non-null     object \n",
      " 24  UNIT_MULT                 45 non-null     int64  \n",
      " 25  Unit multiplier           45 non-null     object \n",
      " 26  DECIMALS                  45 non-null     int64  \n",
      " 27  Decimals                  45 non-null     object \n",
      " 28  BASE_PER                  45 non-null     int64  \n",
      " 29  Base period               0 non-null      float64\n",
      "dtypes: float64(4), int64(3), object(23)\n",
      "memory usage: 10.9+ KB\n"
     ]
    }
   ],
   "source": [
    "df_KeyEconomic.info()"
   ]
  },
  {
   "cell_type": "code",
   "execution_count": 33,
   "metadata": {},
   "outputs": [
    {
     "name": "stdout",
     "output_type": "stream",
     "text": [
      "<class 'pandas.core.frame.DataFrame'>\n",
      "Index: 45 entries, 5 to 243\n",
      "Data columns (total 34 columns):\n",
      " #   Column                    Non-Null Count  Dtype  \n",
      "---  ------                    --------------  -----  \n",
      " 0   STRUCTURE                 45 non-null     object \n",
      " 1   STRUCTURE_ID              45 non-null     object \n",
      " 2   STRUCTURE_NAME            45 non-null     object \n",
      " 3   ACTION                    45 non-null     object \n",
      " 4   REF_AREA                  45 non-null     object \n",
      " 5   Reference area            45 non-null     object \n",
      " 6   FREQ                      45 non-null     object \n",
      " 7   Frequency of observation  45 non-null     object \n",
      " 8   MEASURE                   45 non-null     object \n",
      " 9   Measure                   45 non-null     object \n",
      " 10  UNIT_MEASURE              45 non-null     object \n",
      " 11  Unit of measure           45 non-null     object \n",
      " 12  ACTIVITY                  45 non-null     object \n",
      " 13  Economic activity         45 non-null     object \n",
      " 14  ADJUSTMENT                45 non-null     object \n",
      " 15  Adjustment                45 non-null     object \n",
      " 16  TRANSFORMATION            45 non-null     object \n",
      " 17  Transformation            45 non-null     object \n",
      " 18  TIME_HORIZ                45 non-null     object \n",
      " 19  Time horizon              45 non-null     object \n",
      " 20  METHODOLOGY               45 non-null     object \n",
      " 21  Calculation methodology   45 non-null     object \n",
      " 22  TIME_PERIOD               45 non-null     object \n",
      " 23  Time period               0 non-null      float64\n",
      " 24  OBS_VALUE                 45 non-null     float64\n",
      " 25  Observation value         0 non-null      float64\n",
      " 26  OBS_STATUS                45 non-null     object \n",
      " 27  Observation status        45 non-null     object \n",
      " 28  UNIT_MULT                 45 non-null     int64  \n",
      " 29  Unit multiplier           45 non-null     object \n",
      " 30  DECIMALS                  45 non-null     int64  \n",
      " 31  Decimals                  45 non-null     object \n",
      " 32  BASE_PER                  0 non-null      float64\n",
      " 33  Base period               0 non-null      float64\n",
      "dtypes: float64(5), int64(2), object(27)\n",
      "memory usage: 12.3+ KB\n"
     ]
    }
   ],
   "source": [
    "df_ConsumerConfidence.info()"
   ]
  },
  {
   "cell_type": "code",
   "execution_count": 34,
   "metadata": {},
   "outputs": [
    {
     "name": "stdout",
     "output_type": "stream",
     "text": [
      "<class 'pandas.core.frame.DataFrame'>\n",
      "Index: 45 entries, 6 to 353\n",
      "Data columns (total 34 columns):\n",
      " #   Column                    Non-Null Count  Dtype  \n",
      "---  ------                    --------------  -----  \n",
      " 0   STRUCTURE                 45 non-null     object \n",
      " 1   STRUCTURE_ID              45 non-null     object \n",
      " 2   STRUCTURE_NAME            45 non-null     object \n",
      " 3   ACTION                    45 non-null     object \n",
      " 4   REF_AREA                  45 non-null     object \n",
      " 5   Reference area            45 non-null     object \n",
      " 6   MEASURE                   45 non-null     object \n",
      " 7   Measure                   45 non-null     object \n",
      " 8   UNIT_MEASURE              45 non-null     object \n",
      " 9   Unit of measure           45 non-null     object \n",
      " 10  TRANSFORMATION            45 non-null     object \n",
      " 11  Transformation            45 non-null     object \n",
      " 12  ADJUSTMENT                45 non-null     object \n",
      " 13  Adjustment                45 non-null     object \n",
      " 14  SEX                       45 non-null     object \n",
      " 15  Sex                       45 non-null     object \n",
      " 16  AGE                       45 non-null     object \n",
      " 17  Age                       45 non-null     object \n",
      " 18  ACTIVITY                  45 non-null     object \n",
      " 19  Economic activity         45 non-null     object \n",
      " 20  FREQ                      45 non-null     object \n",
      " 21  Frequency of observation  45 non-null     object \n",
      " 22  TIME_PERIOD               45 non-null     object \n",
      " 23  Time period               0 non-null      float64\n",
      " 24  OBS_VALUE                 45 non-null     float64\n",
      " 25  Observation value         0 non-null      float64\n",
      " 26  BASE_PER                  0 non-null      float64\n",
      " 27  Base period               0 non-null      float64\n",
      " 28  OBS_STATUS                45 non-null     object \n",
      " 29  Observation status        45 non-null     object \n",
      " 30  UNIT_MULT                 45 non-null     int64  \n",
      " 31  Unit multiplier           45 non-null     object \n",
      " 32  DECIMALS                  45 non-null     int64  \n",
      " 33  Decimals                  45 non-null     object \n",
      "dtypes: float64(5), int64(2), object(27)\n",
      "memory usage: 12.3+ KB\n"
     ]
    }
   ],
   "source": [
    "df_Unemployment.info()"
   ]
  },
  {
   "cell_type": "code",
   "execution_count": 36,
   "metadata": {},
   "outputs": [
    {
     "name": "stdout",
     "output_type": "stream",
     "text": [
      "<class 'pandas.core.frame.DataFrame'>\n",
      "Index: 45 entries, 80 to 369\n",
      "Data columns (total 34 columns):\n",
      " #   Column                    Non-Null Count  Dtype  \n",
      "---  ------                    --------------  -----  \n",
      " 0   STRUCTURE                 45 non-null     object \n",
      " 1   STRUCTURE_ID              45 non-null     object \n",
      " 2   STRUCTURE_NAME            45 non-null     object \n",
      " 3   ACTION                    45 non-null     object \n",
      " 4   REF_AREA                  45 non-null     object \n",
      " 5   Reference area            45 non-null     object \n",
      " 6   FREQ                      45 non-null     object \n",
      " 7   Frequency of observation  45 non-null     object \n",
      " 8   MEASURE                   45 non-null     object \n",
      " 9   Measure                   45 non-null     object \n",
      " 10  UNIT_MEASURE              45 non-null     object \n",
      " 11  Unit of measure           45 non-null     object \n",
      " 12  ACTIVITY                  45 non-null     object \n",
      " 13  Economic activity         45 non-null     object \n",
      " 14  ADJUSTMENT                45 non-null     object \n",
      " 15  Adjustment                45 non-null     object \n",
      " 16  TRANSFORMATION            45 non-null     object \n",
      " 17  Transformation            45 non-null     object \n",
      " 18  TIME_HORIZ                45 non-null     object \n",
      " 19  Time horizon              45 non-null     object \n",
      " 20  METHODOLOGY               45 non-null     object \n",
      " 21  Calculation methodology   45 non-null     object \n",
      " 22  TIME_PERIOD               45 non-null     object \n",
      " 23  Time period               0 non-null      float64\n",
      " 24  OBS_VALUE                 45 non-null     float64\n",
      " 25  Observation value         0 non-null      float64\n",
      " 26  OBS_STATUS                45 non-null     object \n",
      " 27  Observation status        45 non-null     object \n",
      " 28  UNIT_MULT                 45 non-null     int64  \n",
      " 29  Unit multiplier           45 non-null     object \n",
      " 30  DECIMALS                  45 non-null     int64  \n",
      " 31  Decimals                  45 non-null     object \n",
      " 32  BASE_PER                  0 non-null      float64\n",
      " 33  Base period               0 non-null      float64\n",
      "dtypes: float64(5), int64(2), object(27)\n",
      "memory usage: 12.3+ KB\n"
     ]
    }
   ],
   "source": [
    "df_ConsumerBaro.info()"
   ]
  },
  {
   "cell_type": "code",
   "execution_count": 37,
   "metadata": {},
   "outputs": [],
   "source": [
    "df_final = pd.merge(df_KeyEconomic[['Reference area', 'TIME_PERIOD', 'OBS_VALUE']], df_Unemployment[['Reference area', 'TIME_PERIOD', 'OBS_VALUE']], on=['Reference area', 'TIME_PERIOD'])\n",
    "df_final = df_final.rename(columns={'OBS_VALUE_x': 'Production', \n",
    "                                  'OBS_VALUE_y': 'Unemployment'})\n",
    "df_final = pd.merge(df_final, \n",
    "                   df_ConsumerConfidence[['Reference area', 'TIME_PERIOD', 'OBS_VALUE']], \n",
    "                   on=['Reference area', 'TIME_PERIOD'])\n",
    "\n",
    "df_final = pd.merge(df_final, \n",
    "                   df_ConsumerBaro[['Reference area', 'TIME_PERIOD', 'OBS_VALUE']], \n",
    "                   on=['Reference area', 'TIME_PERIOD'])\n",
    "\n",
    "df_final = df_final.rename(columns={\n",
    "    'OBS_VALUE_x': 'Confidence',\n",
    "    'OBS_VALUE_y': 'Baro'\n",
    "})\n",
    "\n",
    "df_final.to_csv('Data/economic_indicators.csv', index=False)"
   ]
  },
  {
   "cell_type": "markdown",
   "metadata": {},
   "source": [
    "## Connect to Oracle"
   ]
  },
  {
   "cell_type": "code",
   "execution_count": 4,
   "metadata": {},
   "outputs": [],
   "source": [
    "df_all_flights = pd.read_csv('Data/AllFlights.csv').drop(columns=['Unnamed: 0'])\n",
    "df_all_flights['DepartureTime'] = pd.to_datetime(df_all_flights['DepartureTime']).dt.tz_localize(None)\n",
    "df_all_flights['ArrivalTime'] = pd.to_datetime(df_all_flights['ArrivalTime']).dt.tz_localize(None)"
   ]
  },
  {
   "cell_type": "code",
   "execution_count": 7,
   "metadata": {},
   "outputs": [
    {
     "name": "stdout",
     "output_type": "stream",
     "text": [
      "Database Version: 23.6.0.24.11\n"
     ]
    }
   ],
   "source": [
    "connection = oracledb.connect(user=username, password=password, dsn=dsn)\n",
    "print(f\"Database Version: {connection.version}\")"
   ]
  },
  {
   "cell_type": "markdown",
   "metadata": {},
   "source": [
    "### Create Flights Table and Insert Data"
   ]
  },
  {
   "cell_type": "code",
   "execution_count": null,
   "metadata": {},
   "outputs": [],
   "source": [
    "# Create Flights Table\n",
    "sqlCreateFlights = \"\"\"\n",
    "    CREATE TABLE FLIGHTS(\n",
    "        FlightDate DATE,\n",
    "        DepartureIATA VARCHAR(3),\n",
    "        DepartureTime TIMESTAMP,\n",
    "        ArrivalIATA VARCHAR(3),\n",
    "        ArrivalTime TIMESTAMP,\n",
    "        Aircraft VARCHAR(10),\n",
    "        AirlineName VARCHAR(50),\n",
    "        AirlineIATA VARCHAR(3),\n",
    "        FlightNumberIATA VARCHAR(30),\n",
    "        PRIMARY KEY (FlightDate, FlightNumberIATA));\n",
    "\"\"\"\n",
    "with connection.cursor() as cursor:\n",
    "    cursor.execute(sqlCreateFlights)\n",
    "\n",
    "connection.commit()"
   ]
  },
  {
   "cell_type": "code",
   "execution_count": 25,
   "metadata": {},
   "outputs": [],
   "source": [
    "# Insert data into oracle\n",
    "insert_statements = []\n",
    "for row in df_all_flights.itertuples():\n",
    "    qryInsert = f\"INSERT INTO FLIGHTS VALUES('{row[1]}', '{row[2]}', '{row[3]}', '{row[4]}', '{row[5]}', '{row[6]}', '{row[7]}', '{row[8]}', '{row[9]}')\"\n",
    "    insert_statements.append(qryInsert)\n",
    "\n",
    "insert_statements = \" \".join(insert_statements)"
   ]
  },
  {
   "cell_type": "code",
   "execution_count": 27,
   "metadata": {},
   "outputs": [],
   "source": [
    "with connection.cursor() as cursor:\n",
    "    cursor.execute(insert_statements)\n",
    "    cursor.commit()"
   ]
  },
  {
   "cell_type": "code",
   "execution_count": 28,
   "metadata": {},
   "outputs": [],
   "source": [
    "connection.commit()"
   ]
  },
  {
   "cell_type": "markdown",
   "metadata": {},
   "source": [
    "### Create Economic Data and Insert Data"
   ]
  },
  {
   "cell_type": "code",
   "execution_count": 30,
   "metadata": {},
   "outputs": [
    {
     "data": {
      "text/html": [
       "<div>\n",
       "<style scoped>\n",
       "    .dataframe tbody tr th:only-of-type {\n",
       "        vertical-align: middle;\n",
       "    }\n",
       "\n",
       "    .dataframe tbody tr th {\n",
       "        vertical-align: top;\n",
       "    }\n",
       "\n",
       "    .dataframe thead th {\n",
       "        text-align: right;\n",
       "    }\n",
       "</style>\n",
       "<table border=\"1\" class=\"dataframe\">\n",
       "  <thead>\n",
       "    <tr style=\"text-align: right;\">\n",
       "      <th></th>\n",
       "      <th>Country</th>\n",
       "      <th>TIME_PERIOD</th>\n",
       "      <th>Production</th>\n",
       "      <th>Unemployment</th>\n",
       "      <th>Confidence</th>\n",
       "      <th>Baro</th>\n",
       "      <th>Month</th>\n",
       "    </tr>\n",
       "  </thead>\n",
       "  <tbody>\n",
       "    <tr>\n",
       "      <th>0</th>\n",
       "      <td>France</td>\n",
       "      <td>2024-09-01</td>\n",
       "      <td>98.350045</td>\n",
       "      <td>7.5</td>\n",
       "      <td>-26.6</td>\n",
       "      <td>0.200768</td>\n",
       "      <td>9</td>\n",
       "    </tr>\n",
       "    <tr>\n",
       "      <th>1</th>\n",
       "      <td>France</td>\n",
       "      <td>2024-08-01</td>\n",
       "      <td>99.105151</td>\n",
       "      <td>7.5</td>\n",
       "      <td>-27.7</td>\n",
       "      <td>0.356471</td>\n",
       "      <td>8</td>\n",
       "    </tr>\n",
       "    <tr>\n",
       "      <th>2</th>\n",
       "      <td>France</td>\n",
       "      <td>2024-07-01</td>\n",
       "      <td>98.202947</td>\n",
       "      <td>7.5</td>\n",
       "      <td>-38.5</td>\n",
       "      <td>-0.123837</td>\n",
       "      <td>7</td>\n",
       "    </tr>\n",
       "    <tr>\n",
       "      <th>3</th>\n",
       "      <td>France</td>\n",
       "      <td>2024-06-01</td>\n",
       "      <td>97.898943</td>\n",
       "      <td>7.5</td>\n",
       "      <td>-32.6</td>\n",
       "      <td>-0.123683</td>\n",
       "      <td>6</td>\n",
       "    </tr>\n",
       "    <tr>\n",
       "      <th>4</th>\n",
       "      <td>France</td>\n",
       "      <td>2024-05-01</td>\n",
       "      <td>97.163451</td>\n",
       "      <td>7.5</td>\n",
       "      <td>-30.4</td>\n",
       "      <td>0.279064</td>\n",
       "      <td>5</td>\n",
       "    </tr>\n",
       "  </tbody>\n",
       "</table>\n",
       "</div>"
      ],
      "text/plain": [
       "  Country TIME_PERIOD  Production  Unemployment  Confidence      Baro  Month\n",
       "0  France  2024-09-01   98.350045           7.5       -26.6  0.200768      9\n",
       "1  France  2024-08-01   99.105151           7.5       -27.7  0.356471      8\n",
       "2  France  2024-07-01   98.202947           7.5       -38.5 -0.123837      7\n",
       "3  France  2024-06-01   97.898943           7.5       -32.6 -0.123683      6\n",
       "4  France  2024-05-01   97.163451           7.5       -30.4  0.279064      5"
      ]
     },
     "execution_count": 30,
     "metadata": {},
     "output_type": "execute_result"
    }
   ],
   "source": [
    "df_econ = pd.read_csv('Data/economic_indicators.csv')\n",
    "df_econ['TIME_PERIOD'] = pd.to_datetime(df_econ['TIME_PERIOD'])\n",
    "df_econ['Month'] = df_econ['TIME_PERIOD'].dt.month\n",
    "df_econ.rename(columns={'Reference area': 'Country'}, inplace=True)\n",
    "df_econ.head()"
   ]
  },
  {
   "cell_type": "code",
   "execution_count": 66,
   "metadata": {},
   "outputs": [],
   "source": [
    "sqlCreateEcon = \"\"\"\n",
    "    CREATE TABLE ECON_DATA(\n",
    "        COUNTRY VARCHAR(30), \n",
    "        TIME_PERIOD VARCHAR(30),\n",
    "        PRODUCTION FLOAT, \n",
    "        UNEMPLOYMENT FLOAT,\n",
    "        CONFIDENCE FLOAT,\n",
    "        BARRO FLOAT,\n",
    "        PRIMARY KEY(COUNTRY, TIME_PERIOD)\n",
    "    )\n",
    "\"\"\"\n",
    "with connection.cursor() as cursor:\n",
    "    cursor.execute(sqlCreateEcon)\n",
    "\n",
    "connection.commit()"
   ]
  },
  {
   "cell_type": "code",
   "execution_count": null,
   "metadata": {},
   "outputs": [],
   "source": [
    "# Insert data into oracle\n",
    "with connection.cursor() as cursor:\n",
    "    for row in df_econ.itertuples():\n",
    "        qryInsert = f\"INSERT INTO ECON_DATA VALUES('{row[1]}', '{row[2]}', '{row[3]}', '{row[4]}', '{row[5]}', '{row[6]}')\"\n",
    "        cursor.execute(qryInsert)\n",
    "\n",
    "connection.commit()"
   ]
  },
  {
   "cell_type": "markdown",
   "metadata": {},
   "source": [
    "## Visualizations"
   ]
  },
  {
   "cell_type": "code",
   "execution_count": 15,
   "metadata": {},
   "outputs": [],
   "source": [
    "qry_mediated_schema = \"\"\"WITH FlightData AS (\n",
    "    SELECT \n",
    "        EXTRACT(MONTH FROM F.FlightDate) AS Month,\n",
    "        COUNT(*) AS FlightCount,\n",
    "        CASE \n",
    "            WHEN F.ArrivalIATA = 'CDG' THEN 'France'\n",
    "            WHEN F.ArrivalIATA = 'FCO' THEN 'Italy'\n",
    "            WHEN F.ArrivalIATA = 'LIS' THEN 'Portugal'\n",
    "            WHEN F.ArrivalIATA = 'GRU' THEN 'Brazil'\n",
    "            WHEN F.ArrivalIATA = 'CUN' THEN 'Mexico'\n",
    "            ELSE 'Unknown'\n",
    "        END AS ArrivalCountry\n",
    "    FROM FLIGHTS F\n",
    "    GROUP BY EXTRACT(MONTH FROM F.FlightDate), \n",
    "             CASE \n",
    "                 WHEN F.ArrivalIATA = 'CDG' THEN 'France'\n",
    "                 WHEN F.ArrivalIATA = 'FCO' THEN 'Italy'\n",
    "                 WHEN F.ArrivalIATA = 'LIS' THEN 'Portugal'\n",
    "                 WHEN F.ArrivalIATA = 'GRU' THEN 'Brazil'\n",
    "                 WHEN F.ArrivalIATA = 'CUN' THEN 'Mexico'\n",
    "                 ELSE 'Unknown'\n",
    "             END\n",
    ")\n",
    "\n",
    "SELECT \n",
    "    FD.Month,\n",
    "    FD.FlightCount,\n",
    "    FD.ArrivalCountry AS Country,\n",
    "    E.Production,\n",
    "    E.Unemployment,\n",
    "    E.Confidence,\n",
    "    E.Barro\n",
    "FROM \n",
    "    FlightData FD\n",
    "LEFT JOIN \n",
    "    ECON_DATA E\n",
    "ON \n",
    "    (TRIM(UPPER(FD.ArrivalCountry)) = TRIM(UPPER(E.Country)) \n",
    "     AND EXTRACT(MONTH FROM TIME_PERIOD_DATE) = FD.Month)\n",
    "WHERE FD.MONTH < 10\n",
    "\"\"\""
   ]
  },
  {
   "cell_type": "code",
   "execution_count": 16,
   "metadata": {},
   "outputs": [
    {
     "name": "stderr",
     "output_type": "stream",
     "text": [
      "C:\\Users\\addel\\AppData\\Local\\Temp\\ipykernel_14964\\1795631994.py:1: UserWarning: pandas only supports SQLAlchemy connectable (engine/connection) or database string URI or sqlite3 DBAPI2 connection. Other DBAPI2 objects are not tested. Please consider using SQLAlchemy.\n",
      "  df_mediated = pd.read_sql(qry_mediated_schema, connection)\n"
     ]
    },
    {
     "data": {
      "text/html": [
       "<div>\n",
       "<style scoped>\n",
       "    .dataframe tbody tr th:only-of-type {\n",
       "        vertical-align: middle;\n",
       "    }\n",
       "\n",
       "    .dataframe tbody tr th {\n",
       "        vertical-align: top;\n",
       "    }\n",
       "\n",
       "    .dataframe thead th {\n",
       "        text-align: right;\n",
       "    }\n",
       "</style>\n",
       "<table border=\"1\" class=\"dataframe\">\n",
       "  <thead>\n",
       "    <tr style=\"text-align: right;\">\n",
       "      <th></th>\n",
       "      <th>MONTH</th>\n",
       "      <th>FLIGHTCOUNT</th>\n",
       "      <th>COUNTRY</th>\n",
       "      <th>PRODUCTION</th>\n",
       "      <th>UNEMPLOYMENT</th>\n",
       "      <th>CONFIDENCE</th>\n",
       "      <th>BARRO</th>\n",
       "    </tr>\n",
       "  </thead>\n",
       "  <tbody>\n",
       "    <tr>\n",
       "      <th>0</th>\n",
       "      <td>8</td>\n",
       "      <td>63</td>\n",
       "      <td>Portugal</td>\n",
       "      <td>91.469348</td>\n",
       "      <td>6.400000</td>\n",
       "      <td>-14.30</td>\n",
       "      <td>-0.180511</td>\n",
       "    </tr>\n",
       "    <tr>\n",
       "      <th>1</th>\n",
       "      <td>1</td>\n",
       "      <td>608</td>\n",
       "      <td>Mexico</td>\n",
       "      <td>104.303261</td>\n",
       "      <td>2.731031</td>\n",
       "      <td>50.49</td>\n",
       "      <td>0.079364</td>\n",
       "    </tr>\n",
       "    <tr>\n",
       "      <th>2</th>\n",
       "      <td>6</td>\n",
       "      <td>375</td>\n",
       "      <td>Mexico</td>\n",
       "      <td>105.317490</td>\n",
       "      <td>2.763282</td>\n",
       "      <td>52.16</td>\n",
       "      <td>0.171476</td>\n",
       "    </tr>\n",
       "    <tr>\n",
       "      <th>3</th>\n",
       "      <td>2</td>\n",
       "      <td>461</td>\n",
       "      <td>France</td>\n",
       "      <td>98.752115</td>\n",
       "      <td>7.500000</td>\n",
       "      <td>-29.60</td>\n",
       "      <td>-0.446832</td>\n",
       "    </tr>\n",
       "    <tr>\n",
       "      <th>4</th>\n",
       "      <td>4</td>\n",
       "      <td>276</td>\n",
       "      <td>Italy</td>\n",
       "      <td>99.377138</td>\n",
       "      <td>6.700000</td>\n",
       "      <td>-18.70</td>\n",
       "      <td>-0.304729</td>\n",
       "    </tr>\n",
       "  </tbody>\n",
       "</table>\n",
       "</div>"
      ],
      "text/plain": [
       "   MONTH  FLIGHTCOUNT   COUNTRY  PRODUCTION  UNEMPLOYMENT  CONFIDENCE  \\\n",
       "0      8           63  Portugal   91.469348      6.400000      -14.30   \n",
       "1      1          608    Mexico  104.303261      2.731031       50.49   \n",
       "2      6          375    Mexico  105.317490      2.763282       52.16   \n",
       "3      2          461    France   98.752115      7.500000      -29.60   \n",
       "4      4          276     Italy   99.377138      6.700000      -18.70   \n",
       "\n",
       "      BARRO  \n",
       "0 -0.180511  \n",
       "1  0.079364  \n",
       "2  0.171476  \n",
       "3 -0.446832  \n",
       "4 -0.304729  "
      ]
     },
     "execution_count": 16,
     "metadata": {},
     "output_type": "execute_result"
    }
   ],
   "source": [
    "df_mediated = pd.read_sql(qry_mediated_schema, connection)\n",
    "df_mediated.head()"
   ]
  },
  {
   "cell_type": "code",
   "execution_count": 19,
   "metadata": {},
   "outputs": [
    {
     "name": "stdout",
     "output_type": "stream",
     "text": [
      "<class 'pandas.core.frame.DataFrame'>\n",
      "RangeIndex: 45 entries, 0 to 44\n",
      "Data columns (total 7 columns):\n",
      " #   Column        Non-Null Count  Dtype  \n",
      "---  ------        --------------  -----  \n",
      " 0   MONTH         45 non-null     int64  \n",
      " 1   FLIGHTCOUNT   45 non-null     int64  \n",
      " 2   COUNTRY       45 non-null     object \n",
      " 3   PRODUCTION    45 non-null     float64\n",
      " 4   UNEMPLOYMENT  45 non-null     float64\n",
      " 5   CONFIDENCE    45 non-null     float64\n",
      " 6   BARRO         45 non-null     float64\n",
      "dtypes: float64(4), int64(2), object(1)\n",
      "memory usage: 2.6+ KB\n"
     ]
    }
   ],
   "source": [
    "df_mediated.info()"
   ]
  },
  {
   "cell_type": "code",
   "execution_count": 21,
   "metadata": {},
   "outputs": [
    {
     "data": {
      "text/plain": [
       "Text(0.5, 1.0, 'Flights by Month and Destination')"
      ]
     },
     "execution_count": 21,
     "metadata": {},
     "output_type": "execute_result"
    },
    {
     "data": {
      "image/png": "[encoded data removed]",
      "text/plain": [
       "<Figure size 640x480 with 1 Axes>"
      ]
     },
     "metadata": {},
     "output_type": "display_data"
    }
   ],
   "source": [
    "sns.barplot(data=df_mediated, x=\"MONTH\", y=\"FLIGHTCOUNT\", hue=\"COUNTRY\")\n",
    "plt.legend(title=\"Destination\")\n",
    "plt.xlabel(\"Month\")\n",
    "plt.ylabel(\"Flight Count\")\n",
    "plt.legend()\n",
    "plt.title(\"Flights by Month and Destination\")"
   ]
  },
  {
   "cell_type": "code",
   "execution_count": 22,
   "metadata": {},
   "outputs": [
    {
     "data": {
      "text/plain": [
       "Text(0.5, 1.0, 'Flight Count vs Unemployment Rate')"
      ]
     },
     "execution_count": 22,
     "metadata": {},
     "output_type": "execute_result"
    },
    {
     "data": {
      "image/png": "[encoded data removed]",
      "text/plain": [
       "<Figure size 640x480 with 1 Axes>"
      ]
     },
     "metadata": {},
     "output_type": "display_data"
    }
   ],
   "source": [
    "sns.scatterplot(data=df_mediated, x=\"FLIGHTCOUNT\", y=\"UNEMPLOYMENT\", hue=\"COUNTRY\")\n",
    "plt.legend(title=\"Destination\")\n",
    "plt.xlabel(\"Flight Count\")\n",
    "plt.ylabel(\"Unemployment Rate\")\n",
    "plt.legend()\n",
    "plt.title(\"Flight Count vs Unemployment Rate\")"
   ]
  },
  {
   "cell_type": "markdown",
   "metadata": {},
   "source": [
    "## Linear Regression"
   ]
  },
  {
   "cell_type": "code",
   "execution_count": 47,
   "metadata": {},
   "outputs": [],
   "source": [
    "X = df_mediated[['MONTH', 'COUNTRY', 'PRODUCTION', 'UNEMPLOYMENT', 'CONFIDENCE', 'BARRO']]\n",
    "y = df_mediated['FLIGHTCOUNT']"
   ]
  },
  {
   "cell_type": "code",
   "execution_count": 48,
   "metadata": {},
   "outputs": [
    {
     "data": {
      "text/html": [
       "<div>\n",
       "<style scoped>\n",
       "    .dataframe tbody tr th:only-of-type {\n",
       "        vertical-align: middle;\n",
       "    }\n",
       "\n",
       "    .dataframe tbody tr th {\n",
       "        vertical-align: top;\n",
       "    }\n",
       "\n",
       "    .dataframe thead th {\n",
       "        text-align: right;\n",
       "    }\n",
       "</style>\n",
       "<table border=\"1\" class=\"dataframe\">\n",
       "  <thead>\n",
       "    <tr style=\"text-align: right;\">\n",
       "      <th></th>\n",
       "      <th>MONTH</th>\n",
       "      <th>COUNTRY</th>\n",
       "      <th>PRODUCTION</th>\n",
       "      <th>UNEMPLOYMENT</th>\n",
       "      <th>CONFIDENCE</th>\n",
       "      <th>BARRO</th>\n",
       "    </tr>\n",
       "  </thead>\n",
       "  <tbody>\n",
       "    <tr>\n",
       "      <th>0</th>\n",
       "      <td>8</td>\n",
       "      <td>Portugal</td>\n",
       "      <td>91.469348</td>\n",
       "      <td>6.400000</td>\n",
       "      <td>-14.30</td>\n",
       "      <td>-0.180511</td>\n",
       "    </tr>\n",
       "    <tr>\n",
       "      <th>1</th>\n",
       "      <td>1</td>\n",
       "      <td>Mexico</td>\n",
       "      <td>104.303261</td>\n",
       "      <td>2.731031</td>\n",
       "      <td>50.49</td>\n",
       "      <td>0.079364</td>\n",
       "    </tr>\n",
       "    <tr>\n",
       "      <th>2</th>\n",
       "      <td>6</td>\n",
       "      <td>Mexico</td>\n",
       "      <td>105.317490</td>\n",
       "      <td>2.763282</td>\n",
       "      <td>52.16</td>\n",
       "      <td>0.171476</td>\n",
       "    </tr>\n",
       "    <tr>\n",
       "      <th>3</th>\n",
       "      <td>2</td>\n",
       "      <td>France</td>\n",
       "      <td>98.752115</td>\n",
       "      <td>7.500000</td>\n",
       "      <td>-29.60</td>\n",
       "      <td>-0.446832</td>\n",
       "    </tr>\n",
       "    <tr>\n",
       "      <th>4</th>\n",
       "      <td>4</td>\n",
       "      <td>Italy</td>\n",
       "      <td>99.377138</td>\n",
       "      <td>6.700000</td>\n",
       "      <td>-18.70</td>\n",
       "      <td>-0.304729</td>\n",
       "    </tr>\n",
       "  </tbody>\n",
       "</table>\n",
       "</div>"
      ],
      "text/plain": [
       "   MONTH   COUNTRY  PRODUCTION  UNEMPLOYMENT  CONFIDENCE     BARRO\n",
       "0      8  Portugal   91.469348      6.400000      -14.30 -0.180511\n",
       "1      1    Mexico  104.303261      2.731031       50.49  0.079364\n",
       "2      6    Mexico  105.317490      2.763282       52.16  0.171476\n",
       "3      2    France   98.752115      7.500000      -29.60 -0.446832\n",
       "4      4     Italy   99.377138      6.700000      -18.70 -0.304729"
      ]
     },
     "execution_count": 48,
     "metadata": {},
     "output_type": "execute_result"
    }
   ],
   "source": [
    "X.head()"
   ]
  },
  {
   "cell_type": "code",
   "execution_count": 49,
   "metadata": {},
   "outputs": [],
   "source": [
    "X = pd.get_dummies(X)\n",
    "X[['COUNTRY_Brazil', 'COUNTRY_France', 'COUNTRY_Italy', 'COUNTRY_Mexico', 'COUNTRY_Portugal']] = X[['COUNTRY_Brazil', 'COUNTRY_France', 'COUNTRY_Italy', 'COUNTRY_Mexico', 'COUNTRY_Portugal']].astype(int)\n",
    "\n",
    "scaler = StandardScaler()\n",
    "X_scaled = scaler.fit_transform(X)"
   ]
  },
  {
   "cell_type": "code",
   "execution_count": 50,
   "metadata": {},
   "outputs": [
    {
     "data": {
      "text/plain": [
       "array([  15.11636908, -160.35738888, -261.94234826, -388.41320899,\n",
       "         33.2901781 , -140.91803468,   97.02384769,  -32.55640068,\n",
       "        254.37443351, -177.92384585])"
      ]
     },
     "execution_count": 50,
     "metadata": {},
     "output_type": "execute_result"
    }
   ],
   "source": [
    "model = LinearRegression()\n",
    "model.fit(X_scaled, y)\n",
    "model.coef_"
   ]
  },
  {
   "cell_type": "code",
   "execution_count": 59,
   "metadata": {},
   "outputs": [
    {
     "name": "stdout",
     "output_type": "stream",
     "text": [
      "FlightCount = 323.09 + 15.12 * MONTH + -160.36 * PRODUCTION + -261.94 * UNEMPLOYMENT + -388.41 * CONFIDENCE + 33.29 * BARRO + -140.92 * COUNTRY_Brazil + 97.02 * COUNTRY_France + -32.56 * COUNTRY_Italy + 254.37 * COUNTRY_Mexico + -177.92 * COUNTRY_Portugal\n"
     ]
    }
   ],
   "source": [
    "equation = f\"{round(model.intercept_, 2)}\"  # Start with the intercept\n",
    "for var, coef in zip(X.columns, model.coef_):\n",
    "    equation += f\" + {round(coef, 2)} * {var}\"  # Append each term\n",
    "\n",
    "print(f\"FlightCount = {equation}\")"
   ]
  },
  {
   "cell_type": "code",
   "execution_count": 64,
   "metadata": {},
   "outputs": [
    {
     "data": {
      "text/plain": [
       "Text(0, 0.5, 'Variables')"
      ]
     },
     "execution_count": 64,
     "metadata": {},
     "output_type": "execute_result"
    },
    {
     "data": {
      "image/png": "[encoded data removed]",
      "text/plain": [
       "<Figure size 640x480 with 1 Axes>"
      ]
     },
     "metadata": {},
     "output_type": "display_data"
    }
   ],
   "source": [
    "coef_df = pd.DataFrame({\"Variable\": X.columns, \"Coefficients\": model.coef_})\n",
    "plt.barh(coef_df['Variable'], coef_df['Coefficients'])\n",
    "plt.xlabel('Coefficient Units')\n",
    "plt.ylabel('Variables')"
   ]
  }
 ],
 "metadata": {
  "kernelspec": {
   "display_name": "Python 3",
   "language": "python",
   "name": "python3"
  },
  "language_info": {
   "codemirror_mode": {
    "name": "ipython",
    "version": 3
   },
   "file_extension": ".py",
   "mimetype": "text/x-python",
   "name": "python",
   "nbconvert_exporter": "python",
   "pygments_lexer": "ipython3",
   "version": "3.12.2"
  }
 },
 "nbformat": 4,
 "nbformat_minor": 2
}
