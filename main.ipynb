{
 "cells": [
  {
   "cell_type": "markdown",
   "metadata": {},
   "source": [
    "# Data Sources"
   ]
  },
  {
   "cell_type": "code",
   "execution_count": null,
   "metadata": {},
   "outputs": [],
   "source": [
    "import requests \n",
    "import pandas as pd\n",
    "import json\n",
    "from datetime import datetime, timedelta\n",
    "import math"
   ]
  },
  {
   "cell_type": "code",
   "execution_count": 2,
   "metadata": {},
   "outputs": [],
   "source": [
    "with open('keys.json', 'r') as KeysFile:\n",
    "    data = json.load(KeysFile)\n",
    "\n",
    "aviationStackAPIKey = data[\"Aviation Stack API KEY\"]"
   ]
  },
  {
   "cell_type": "markdown",
   "metadata": {},
   "source": [
    "## Country Data"
   ]
  },
  {
   "cell_type": "code",
   "execution_count": 3,
   "metadata": {},
   "outputs": [],
   "source": [
    "def getCountryCodes(country: str):\n",
    "    urlCountry = f\"https://api.aviationstack.com/v1/countries?access_key={aviationStackAPIKey}\"\n",
    "    queryStringCountry = {\"search\": country}\n",
    "    responseCountry = requests.get(urlCountry, params=queryStringCountry)\n",
    "    responseCountry = responseCountry.json()\n",
    "    responseCountry = responseCountry.get('data')\n",
    "    codes = [c.get('country_iso2') for c in responseCountry]\n",
    "    return codes"
   ]
  },
  {
   "cell_type": "code",
   "execution_count": 4,
   "metadata": {},
   "outputs": [],
   "source": [
    "def getAirportsByCountry(code: str):\n",
    "    urlAirport = f\"https://api.aviationstack.com/v1/airports?access_key={aviationStackAPIKey}\"\n",
    "    \n",
    "    offset = 0\n",
    "    all_data = []\n",
    "    \n",
    "    while True:\n",
    "        queryStringAirport = {\"offset\": offset, \"country_iso\": code, \"type\": \"large_airport\"}\n",
    "        responseAirport = requests.get(urlAirport, params=queryStringAirport)\n",
    "        responseAirport = responseAirport.json()\n",
    "        \n",
    "        currentData = responseAirport.get('data', [])\n",
    "        currentData = [airP for airP in currentData if airP.get('country_iso2') == code]\n",
    "        all_data.extend(currentData)\n",
    "        \n",
    "        if offset + 100 >= responseAirport.get('pagination').get('total'):\n",
    "            break\n",
    "        \n",
    "        offset += 100\n",
    "    \n",
    "    airports_df = pd.DataFrame(columns=['IATA', 'CountryCode', 'AirportName', 'Country'])\n",
    "    \n",
    "    for case in all_data:\n",
    "        new_case = {'IATA': case.get('iata_code', ''),\n",
    "                    'CountryCode': case.get('country_iso2', ''),\n",
    "                    'AirportName': case.get('airport_name', ''),\n",
    "                    'Country': case.get('country_name', '')}\n",
    "        airports_df.loc[len(airports_df)] = new_case\n",
    "        \n",
    "    return airports_df\n"
   ]
  },
  {
   "cell_type": "markdown",
   "metadata": {},
   "source": [
    "## Historical Flight Data"
   ]
  },
  {
   "cell_type": "code",
   "execution_count": 5,
   "metadata": {},
   "outputs": [],
   "source": [
    "def getHistoricalFlights(departureIATA: str=None, arrivalIATA: str=None, date: str=None):\n",
    "    url = f\"https://api.aviationstack.com/v1/flights?access_key={aviationStackAPIKey}\"\n",
    "    queryString = {\"dep_iata\": departureIATA, \"arr_iata\": arrivalIATA, \"flight_date\": date}\n",
    "    queryString = {key: value for key, value in queryString.items() if value is not None}\n",
    "    response = requests.get(url, params=queryString)\n",
    "    if response.status_code != 200:\n",
    "        print(response)\n",
    "        return None\n",
    "\n",
    "    response = response.json()\n",
    "    response = response['data']\n",
    "    flights_df = pd.DataFrame(columns=['Date', 'DepartureIATA', 'DepartureTime', 'ArrivalIATA', 'ArrivalTime', 'Aircraft', 'AirlineName', 'AirlineIATA', 'FlightNumberIATA'])\n",
    "    for flight in response:\n",
    "        if isinstance(flight, dict) and flight.get('flight', {}).get('codeshared', None) is None:\n",
    "            new_case = {\n",
    "                'Date': date,\n",
    "                'DepartureIATA': flight.get('departure', {}).get('iata', None),\n",
    "                'DepartureTime': flight.get('departure', {}).get('scheduled', None),\n",
    "                'ArrivalIATA': flight.get('arrival', {}).get('iata', None),\n",
    "                'ArrivalTime': flight.get('arrival', {}).get('scheduled', None),\n",
    "                'Aircraft': flight.get('aircraft', {}).get('iata', None) if flight.get('aircraft') is not None else None,\n",
    "                'AirlineName': flight.get('airline', {}).get('name', None),\n",
    "                'AirlineIATA': flight.get('airline', {}).get('iata', None),\n",
    "                'FlightNumberIATA': flight.get('flight', {}).get('iata', None)\n",
    "            }\n",
    "            flights_df.loc[len(flights_df)] = new_case\n",
    "\n",
    "    return flights_df"
   ]
  },
  {
   "cell_type": "markdown",
   "metadata": {},
   "source": [
    "### Get Country Codes for US Brazil Portugal Canada Italy France"
   ]
  },
  {
   "cell_type": "code",
   "execution_count": 14,
   "metadata": {},
   "outputs": [],
   "source": [
    "US_codes = getCountryCodes('United States')\n",
    "Brazil_codes = getCountryCodes('Brazil')\n",
    "Portugal_codes = getCountryCodes('Portugal')\n",
    "Canada_codes = getCountryCodes('Canada')\n",
    "Italy_codes = getCountryCodes('Italy')\n",
    "France_codes = getCountryCodes('France')"
   ]
  },
  {
   "cell_type": "code",
   "execution_count": 15,
   "metadata": {},
   "outputs": [
    {
     "name": "stdout",
     "output_type": "stream",
     "text": [
      "Country codes:\n",
      "US: ['UM', 'US']\n",
      "Brazil: ['BR']\n",
      "Portugal: ['PT']\n",
      "Canada: ['CA']\n",
      "Italy: ['IT']\n",
      "France: ['FR', 'MQ']\n"
     ]
    }
   ],
   "source": [
    "print(f\"Country codes:\\nUS: {US_codes}\\nBrazil: {Brazil_codes}\\nPortugal: {Portugal_codes}\\nCanada: {Canada_codes}\\nItaly: {Italy_codes}\\nFrance: {France_codes}\")"
   ]
  },
  {
   "cell_type": "code",
   "execution_count": null,
   "metadata": {},
   "outputs": [],
   "source": [
    "# DO NOT RUN \n",
    "US_airports = getAirportsByCountry('US')['IATA']\n",
    "Brazil_airports = getAirportsByCountry('BR')['IATA']\n",
    "Portugal_airports = getAirportsByCountry('PT')['IATA']\n",
    "Canada_airports = getAirportsByCountry('CA')['IATA']\n",
    "Italy_airports = getAirportsByCountry('IT')['IATA']\n",
    "France_airports = getAirportsByCountry('FR')['IATA']\n",
    "US_airports.to_csv(r'Data/Airports/US_airports.csv')\n",
    "Brazil_airports.to_csv(r'Data/Airports/Brazil_airports.csv')\n",
    "Portugal_airports.to_csv(r'Data/Airports/Portugal_airports.csv')\n",
    "Canada_airports.to_csv(r'Data/Airports/Canada_airports.csv')\n",
    "Italy_airports.to_csv(r'Data/Airports/Italy_airports.csv')\n",
    "France_airports.to_csv(r'Data/Airports/France_airports.csv')"
   ]
  },
  {
   "cell_type": "code",
   "execution_count": null,
   "metadata": {},
   "outputs": [],
   "source": [
    "# Save dataframes as csv to minimize API requests\n",
    "\n"
   ]
  },
  {
   "cell_type": "code",
   "execution_count": 11,
   "metadata": {},
   "outputs": [],
   "source": [
    "df = getHistoricalFlights(departureIATA=\"AAF\", arrivalIATA=\"FCO\", date='2024-02-16')"
   ]
  },
  {
   "cell_type": "code",
   "execution_count": 9,
   "metadata": {},
   "outputs": [],
   "source": [
    "dates = [datetime(2024, 1, 1) + timedelta(days=i) for i in range(366)]"
   ]
  },
  {
   "cell_type": "markdown",
   "metadata": {},
   "source": [
    "## Future Flights"
   ]
  },
  {
   "cell_type": "code",
   "execution_count": 8,
   "metadata": {},
   "outputs": [],
   "source": [
    "def getFutureFlights(departureIATA: str=None, arrivalIATA: str=None, date: str=None, airlineIATA: str=None, flightNumber: str=None):\n",
    "    url = f\"https://api.aviationstack.com/v1/flightsFuture?access_key={aviationStackAPIKey}\"\n",
    "    if not ((departureIATA is None) ^ (arrivalIATA is None)):\n",
    "        return \"Invalid Request\"\n",
    "    \n",
    "    if departureIATA:\n",
    "        queryString = {\n",
    "            \"iataCode\": departureIATA,\n",
    "            \"type\": \"departure\",\n",
    "            \"date\": date,\n",
    "            \"airline_iata\": airlineIATA,\n",
    "            \"flight_number\":flightNumber\n",
    "        }\n",
    "    \n",
    "    else:\n",
    "        queryString = {\n",
    "            \"iataCode\": arrivalIATA,\n",
    "            \"type\": \"arrival\",\n",
    "            \"date\": date,\n",
    "            \"airline_iata\": airlineIATA,\n",
    "            \"flight_number\":flightNumber\n",
    "        }\n",
    "    \n",
    "    queryString = {key: value for key, value in queryString.items() if value is not None}\n",
    "    response = requests.get(url, params=queryString)\n",
    "    if response.status_code != 200:\n",
    "        print(response)\n",
    "        return None\n",
    "    response = response.json()\n",
    "    response = response['data']\n",
    "    response = [flight for flight in response if \"codeshared\" not in flight.keys()]\n",
    "    df = pd.DataFrame(columns=['Date', 'Weekday', 'DepartureIATA', 'DepartureTime', 'ArrivalIATA', 'ArrivalTime', 'Aircraft', 'AirlineIATA', 'FlightNumberIATA'])\n",
    "    \n",
    "    for flight in response:\n",
    "        new_case = {'Date': date, \n",
    "                    'Weekday': flight['weekday'],\n",
    "                    'DepartureIATA': flight['departure']['iataCode'],\n",
    "                    'DepartureTime': flight['departure']['scheduledTime'],\n",
    "                    'ArrivalIATA': flight['arrival']['iataCode'],\n",
    "                    'ArrivalTime': flight['arrival']['scheduledTime'],\n",
    "                    'Aircraft': flight['aircraft']['modelCode'],\n",
    "                    'AirlineIATA': flight['airline']['iataCode'],\n",
    "                    'FlightNumberIATA': flight['flight']['iataNumber']}\n",
    "        df.loc[len(df)] = new_case\n",
    "\n",
    "    return df"
   ]
  },
  {
   "cell_type": "code",
   "execution_count": null,
   "metadata": {},
   "outputs": [],
   "source": [
    "getFutureFlights(departureIATA=\"ATL\", date=\"2024-11-29\", airlineIATA=\"DL\")"
   ]
  }
 ],
 "metadata": {
  "kernelspec": {
   "display_name": "Python 3",
   "language": "python",
   "name": "python3"
  },
  "language_info": {
   "codemirror_mode": {
    "name": "ipython",
    "version": 3
   },
   "file_extension": ".py",
   "mimetype": "text/x-python",
   "name": "python",
   "nbconvert_exporter": "python",
   "pygments_lexer": "ipython3",
   "version": "3.13.0"
  }
 },
 "nbformat": 4,
 "nbformat_minor": 2
}
